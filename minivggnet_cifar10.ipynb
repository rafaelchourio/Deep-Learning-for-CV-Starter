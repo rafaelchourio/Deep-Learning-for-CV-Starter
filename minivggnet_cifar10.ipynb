{
  "nbformat": 4,
  "nbformat_minor": 0,
  "metadata": {
    "colab": {
      "name": "minivggnet_cifar10.ipynb",
      "provenance": [],
      "authorship_tag": "ABX9TyNZ+pV9QX75JfdX9l2kkPcM",
      "include_colab_link": true
    },
    "kernelspec": {
      "name": "python3",
      "display_name": "Python 3"
    },
    "accelerator": "GPU"
  },
  "cells": [
    {
      "cell_type": "markdown",
      "metadata": {
        "id": "view-in-github",
        "colab_type": "text"
      },
      "source": [
        "<a href=\"https://colab.research.google.com/github/rafaelchourio/Deep-Learning-for-CV-Starter/blob/master/minivggnet_cifar10.ipynb\" target=\"_parent\"><img src=\"https://colab.research.google.com/assets/colab-badge.svg\" alt=\"Open In Colab\"/></a>"
      ]
    },
    {
      "cell_type": "code",
      "metadata": {
        "id": "vaIQtKiOpFSE",
        "colab_type": "code",
        "colab": {}
      },
      "source": [
        "# set the matplotlib backend so figures can be saved in the background\n",
        "import matplotlib\n",
        "matplotlib.use(\"Agg\")"
      ],
      "execution_count": 0,
      "outputs": []
    },
    {
      "cell_type": "code",
      "metadata": {
        "id": "y_kCTAnLraIz",
        "colab_type": "code",
        "colab": {
          "base_uri": "https://localhost:8080/",
          "height": 34
        },
        "outputId": "b89ee4f5-1f5c-4034-df0d-a16b606190d7"
      },
      "source": [
        "# import the necessary packages\n",
        "from sklearn.preprocessing import LabelBinarizer\n",
        "from sklearn.metrics import classification_report\n",
        "from keras.optimizers import SGD\n",
        "from keras.datasets import cifar10\n",
        "import matplotlib.pyplot as plt\n",
        "import numpy as np\n",
        "import argparse"
      ],
      "execution_count": 2,
      "outputs": [
        {
          "output_type": "stream",
          "text": [
            "Using TensorFlow backend.\n"
          ],
          "name": "stderr"
        }
      ]
    },
    {
      "cell_type": "code",
      "metadata": {
        "id": "vwbQyQr7rDzS",
        "colab_type": "code",
        "colab": {}
      },
      "source": [
        "# import the necessary packages\n",
        "from keras.models import Sequential\n",
        "from keras.layers.normalization import BatchNormalization\n",
        "from keras.layers.convolutional import Conv2D\n",
        "from keras.layers.convolutional import MaxPooling2D\n",
        "from keras.layers.core import Activation\n",
        "from keras.layers.core import Flatten\n",
        "from keras.layers.core import Dropout\n",
        "from keras.layers.core import Dense\n",
        "from keras import backend as K"
      ],
      "execution_count": 0,
      "outputs": []
    },
    {
      "cell_type": "code",
      "metadata": {
        "id": "79n8kv7trD_w",
        "colab_type": "code",
        "colab": {}
      },
      "source": [
        "class MiniVGGNet:\n",
        "    @staticmethod\n",
        "    def build(width, height, depth, classes):\n",
        "        # initialize the model along with the input shape to be\n",
        "        # \"channels last\" and the channels dimension itself\n",
        "        model = Sequential()\n",
        "        inputShape = (height, width, depth)\n",
        "        chanDim = -1\n",
        "        \n",
        "        # if we are using \"channels first\", update the input shape\n",
        "        # and channels dimension\n",
        "        if K.image_data_format() == \"channels_first\":\n",
        "            inputShape = (depth, height, width)\n",
        "            chanDim = 1\n",
        "        \n",
        "        # first CONV => RELU => CONV => RELU => POOL layer set\n",
        "        model.add(Conv2D(32, (3, 3), padding=\"same\", input_shape=inputShape))\n",
        "        model.add(Activation(\"relu\"))\n",
        "        model.add(BatchNormalization(axis=chanDim))\n",
        "        model.add(Conv2D(32, (3, 3), padding=\"same\"))\n",
        "        model.add(Activation(\"relu\"))\n",
        "        model.add(BatchNormalization(axis=chanDim))\n",
        "        model.add(MaxPooling2D(pool_size=(2, 2)))\n",
        "        model.add(Dropout(0.25))\n",
        "        \n",
        "        # second CONV => RELU => CONV => RELU => POOL layer set\n",
        "        model.add(Conv2D(64, (3, 3), padding=\"same\"))\n",
        "        model.add(Activation(\"relu\"))\n",
        "        model.add(BatchNormalization(axis=chanDim))\n",
        "        model.add(Conv2D(64, (3, 3), padding=\"same\"))\n",
        "        model.add(Activation(\"relu\"))\n",
        "        model.add(BatchNormalization(axis=chanDim))\n",
        "        model.add(MaxPooling2D(pool_size=(2, 2)))\n",
        "        model.add(Dropout(0.25))\n",
        "        \n",
        "        # first (and only) set of FC => RELU layers\n",
        "        model.add(Flatten())\n",
        "        model.add(Dense(512))\n",
        "        model.add(Activation(\"relu\"))\n",
        "        model.add(BatchNormalization())\n",
        "        model.add(Dropout(0.5))\n",
        "\n",
        "        # softmax classifier\n",
        "        model.add(Dense(classes))\n",
        "        model.add(Activation(\"softmax\"))\n",
        "        \n",
        "        # return the constructed network architecture\n",
        "        return model"
      ],
      "execution_count": 0,
      "outputs": []
    },
    {
      "cell_type": "code",
      "metadata": {
        "id": "TZiACrkIq0It",
        "colab_type": "code",
        "colab": {
          "base_uri": "https://localhost:8080/",
          "height": 68
        },
        "outputId": "65d4da0e-640b-4b20-a018-d922c3469582"
      },
      "source": [
        "# load the training and testing data, then scale it into the range [0, 1]\n",
        "print(\"[INFO] loading CIFAR-10 data...\")\n",
        "((trainX, trainY), (testX, testY)) = cifar10.load_data()\n",
        "\n",
        "trainX = trainX.astype(\"float\") / 255.0\n",
        "testX = testX.astype(\"float\") / 255.0"
      ],
      "execution_count": 5,
      "outputs": [
        {
          "output_type": "stream",
          "text": [
            "[INFO] loading CIFAR-10 data...\n",
            "Downloading data from https://www.cs.toronto.edu/~kriz/cifar-10-python.tar.gz\n",
            "170500096/170498071 [==============================] - 7s 0us/step\n"
          ],
          "name": "stdout"
        }
      ]
    },
    {
      "cell_type": "code",
      "metadata": {
        "id": "QackKB_Lq0Rk",
        "colab_type": "code",
        "colab": {}
      },
      "source": [
        "# convert the labels from integers to vectors\n",
        "lb = LabelBinarizer()\n",
        "trainY = lb.fit_transform(trainY)\n",
        "testY = lb.transform(testY)"
      ],
      "execution_count": 0,
      "outputs": []
    },
    {
      "cell_type": "code",
      "metadata": {
        "id": "fa__0aOZq0Vs",
        "colab_type": "code",
        "colab": {}
      },
      "source": [
        "# initialize the label names for the CIFAR-10 dataset\n",
        "labelNames = [\"airplane\", \"automobile\", \"bird\", \"cat\", \"deer\",\n",
        "\"dog\", \"frog\", \"horse\", \"ship\", \"truck\"]"
      ],
      "execution_count": 0,
      "outputs": []
    },
    {
      "cell_type": "code",
      "metadata": {
        "id": "o_uuSQK-q7aN",
        "colab_type": "code",
        "colab": {
          "base_uri": "https://localhost:8080/",
          "height": 34
        },
        "outputId": "f8ffab75-d962-4b21-c46c-68acbc5c923f"
      },
      "source": [
        "# initialize the optimizer and model\n",
        "print(\"[INFO] compiling model...\")\n",
        "opt = SGD(lr=0.01, decay=0.01 / 40, momentum=0.9, nesterov=True)\n",
        "model = MiniVGGNet.build(width=32, height=32, depth=3, classes=10)\n",
        "model.compile(loss=\"categorical_crossentropy\", optimizer=opt,\n",
        "metrics=[\"accuracy\"])"
      ],
      "execution_count": 8,
      "outputs": [
        {
          "output_type": "stream",
          "text": [
            "[INFO] compiling model...\n"
          ],
          "name": "stdout"
        }
      ]
    },
    {
      "cell_type": "code",
      "metadata": {
        "id": "OzTGxI8Fq7d7",
        "colab_type": "code",
        "colab": {
          "base_uri": "https://localhost:8080/",
          "height": 1000
        },
        "outputId": "12ccfc13-2caf-4968-822e-d9875cd3c046"
      },
      "source": [
        "# train the network\n",
        "print(\"[INFO] training network...\")\n",
        "H = model.fit(trainX, trainY, validation_data=(testX, testY),\n",
        "batch_size=64, epochs=40, verbose=1)"
      ],
      "execution_count": 9,
      "outputs": [
        {
          "output_type": "stream",
          "text": [
            "[INFO] training network...\n",
            "Train on 50000 samples, validate on 10000 samples\n",
            "Epoch 1/40\n",
            "50000/50000 [==============================] - 22s 435us/step - loss: 1.6761 - accuracy: 0.4411 - val_loss: 1.1954 - val_accuracy: 0.5656\n",
            "Epoch 2/40\n",
            "50000/50000 [==============================] - 14s 277us/step - loss: 1.1869 - accuracy: 0.5879 - val_loss: 0.9759 - val_accuracy: 0.6530\n",
            "Epoch 3/40\n",
            "50000/50000 [==============================] - 14s 277us/step - loss: 0.9903 - accuracy: 0.6541 - val_loss: 0.8518 - val_accuracy: 0.6956\n",
            "Epoch 4/40\n",
            "50000/50000 [==============================] - 14s 277us/step - loss: 0.8716 - accuracy: 0.6937 - val_loss: 0.7447 - val_accuracy: 0.7384\n",
            "Epoch 5/40\n",
            "50000/50000 [==============================] - 14s 278us/step - loss: 0.7940 - accuracy: 0.7224 - val_loss: 0.7392 - val_accuracy: 0.7421\n",
            "Epoch 6/40\n",
            "50000/50000 [==============================] - 14s 275us/step - loss: 0.7328 - accuracy: 0.7427 - val_loss: 0.7046 - val_accuracy: 0.7549\n",
            "Epoch 7/40\n",
            "50000/50000 [==============================] - 14s 276us/step - loss: 0.6817 - accuracy: 0.7586 - val_loss: 0.6841 - val_accuracy: 0.7641\n",
            "Epoch 8/40\n",
            "50000/50000 [==============================] - 14s 276us/step - loss: 0.6439 - accuracy: 0.7712 - val_loss: 0.6507 - val_accuracy: 0.7718\n",
            "Epoch 9/40\n",
            "50000/50000 [==============================] - 14s 284us/step - loss: 0.6082 - accuracy: 0.7835 - val_loss: 0.6770 - val_accuracy: 0.7680\n",
            "Epoch 10/40\n",
            "50000/50000 [==============================] - 14s 281us/step - loss: 0.5813 - accuracy: 0.7949 - val_loss: 0.6169 - val_accuracy: 0.7843\n",
            "Epoch 11/40\n",
            "50000/50000 [==============================] - 14s 280us/step - loss: 0.5553 - accuracy: 0.8012 - val_loss: 0.6032 - val_accuracy: 0.7923\n",
            "Epoch 12/40\n",
            "50000/50000 [==============================] - 14s 278us/step - loss: 0.5312 - accuracy: 0.8115 - val_loss: 0.5734 - val_accuracy: 0.8013\n",
            "Epoch 13/40\n",
            "50000/50000 [==============================] - 14s 278us/step - loss: 0.5052 - accuracy: 0.8206 - val_loss: 0.5741 - val_accuracy: 0.8024\n",
            "Epoch 14/40\n",
            "50000/50000 [==============================] - 14s 279us/step - loss: 0.4889 - accuracy: 0.8261 - val_loss: 0.5633 - val_accuracy: 0.8091\n",
            "Epoch 15/40\n",
            "50000/50000 [==============================] - 14s 278us/step - loss: 0.4681 - accuracy: 0.8327 - val_loss: 0.5999 - val_accuracy: 0.7927\n",
            "Epoch 16/40\n",
            "50000/50000 [==============================] - 14s 279us/step - loss: 0.4554 - accuracy: 0.8391 - val_loss: 0.5862 - val_accuracy: 0.7996\n",
            "Epoch 17/40\n",
            "50000/50000 [==============================] - 14s 279us/step - loss: 0.4346 - accuracy: 0.8455 - val_loss: 0.5621 - val_accuracy: 0.8111\n",
            "Epoch 18/40\n",
            "50000/50000 [==============================] - 14s 279us/step - loss: 0.4230 - accuracy: 0.8513 - val_loss: 0.5541 - val_accuracy: 0.8120\n",
            "Epoch 19/40\n",
            "50000/50000 [==============================] - 14s 278us/step - loss: 0.4060 - accuracy: 0.8557 - val_loss: 0.5521 - val_accuracy: 0.8158\n",
            "Epoch 20/40\n",
            "50000/50000 [==============================] - 14s 278us/step - loss: 0.3954 - accuracy: 0.8572 - val_loss: 0.5449 - val_accuracy: 0.8169\n",
            "Epoch 21/40\n",
            "50000/50000 [==============================] - 14s 278us/step - loss: 0.3898 - accuracy: 0.8603 - val_loss: 0.5561 - val_accuracy: 0.8147\n",
            "Epoch 22/40\n",
            "50000/50000 [==============================] - 14s 278us/step - loss: 0.3760 - accuracy: 0.8645 - val_loss: 0.5592 - val_accuracy: 0.8131\n",
            "Epoch 23/40\n",
            "50000/50000 [==============================] - 14s 279us/step - loss: 0.3653 - accuracy: 0.8688 - val_loss: 0.5660 - val_accuracy: 0.8147\n",
            "Epoch 24/40\n",
            "50000/50000 [==============================] - 14s 277us/step - loss: 0.3552 - accuracy: 0.8731 - val_loss: 0.5488 - val_accuracy: 0.8172\n",
            "Epoch 25/40\n",
            "50000/50000 [==============================] - 14s 277us/step - loss: 0.3432 - accuracy: 0.8770 - val_loss: 0.5634 - val_accuracy: 0.8174\n",
            "Epoch 26/40\n",
            "50000/50000 [==============================] - 14s 280us/step - loss: 0.3379 - accuracy: 0.8788 - val_loss: 0.5420 - val_accuracy: 0.8220\n",
            "Epoch 27/40\n",
            "50000/50000 [==============================] - 14s 277us/step - loss: 0.3263 - accuracy: 0.8836 - val_loss: 0.5473 - val_accuracy: 0.8216\n",
            "Epoch 28/40\n",
            "50000/50000 [==============================] - 14s 277us/step - loss: 0.3223 - accuracy: 0.8834 - val_loss: 0.5501 - val_accuracy: 0.8224\n",
            "Epoch 29/40\n",
            "50000/50000 [==============================] - 14s 276us/step - loss: 0.3141 - accuracy: 0.8884 - val_loss: 0.5450 - val_accuracy: 0.8246\n",
            "Epoch 30/40\n",
            "50000/50000 [==============================] - 14s 276us/step - loss: 0.3041 - accuracy: 0.8915 - val_loss: 0.5507 - val_accuracy: 0.8222\n",
            "Epoch 31/40\n",
            "50000/50000 [==============================] - 14s 281us/step - loss: 0.2962 - accuracy: 0.8935 - val_loss: 0.5667 - val_accuracy: 0.8201\n",
            "Epoch 32/40\n",
            "50000/50000 [==============================] - 14s 279us/step - loss: 0.2837 - accuracy: 0.8978 - val_loss: 0.5670 - val_accuracy: 0.8193\n",
            "Epoch 33/40\n",
            "50000/50000 [==============================] - 14s 273us/step - loss: 0.2840 - accuracy: 0.8975 - val_loss: 0.5472 - val_accuracy: 0.8261\n",
            "Epoch 34/40\n",
            "50000/50000 [==============================] - 14s 275us/step - loss: 0.2787 - accuracy: 0.8990 - val_loss: 0.5512 - val_accuracy: 0.8268\n",
            "Epoch 35/40\n",
            "50000/50000 [==============================] - 14s 274us/step - loss: 0.2707 - accuracy: 0.9027 - val_loss: 0.5443 - val_accuracy: 0.8283\n",
            "Epoch 36/40\n",
            "50000/50000 [==============================] - 14s 274us/step - loss: 0.2629 - accuracy: 0.9067 - val_loss: 0.5535 - val_accuracy: 0.8257\n",
            "Epoch 37/40\n",
            "50000/50000 [==============================] - 14s 272us/step - loss: 0.2629 - accuracy: 0.9050 - val_loss: 0.5580 - val_accuracy: 0.8248\n",
            "Epoch 38/40\n",
            "50000/50000 [==============================] - 14s 272us/step - loss: 0.2595 - accuracy: 0.9089 - val_loss: 0.5662 - val_accuracy: 0.8224\n",
            "Epoch 39/40\n",
            "50000/50000 [==============================] - 14s 273us/step - loss: 0.2549 - accuracy: 0.9080 - val_loss: 0.5569 - val_accuracy: 0.8245\n",
            "Epoch 40/40\n",
            "50000/50000 [==============================] - 14s 274us/step - loss: 0.2495 - accuracy: 0.9093 - val_loss: 0.5728 - val_accuracy: 0.8200\n"
          ],
          "name": "stdout"
        }
      ]
    },
    {
      "cell_type": "code",
      "metadata": {
        "id": "vH_ouTwQq7g0",
        "colab_type": "code",
        "colab": {
          "base_uri": "https://localhost:8080/",
          "height": 323
        },
        "outputId": "28d47aea-4199-446a-f741-afc1b60afdc1"
      },
      "source": [
        "# evaluate the network\n",
        "print(\"[INFO] evaluating network...\")\n",
        "predictions = model.predict(testX, batch_size=64)\n",
        "print(classification_report(testY.argmax(axis=1),\n",
        "predictions.argmax(axis=1), target_names=labelNames))"
      ],
      "execution_count": 10,
      "outputs": [
        {
          "output_type": "stream",
          "text": [
            "[INFO] evaluating network...\n",
            "              precision    recall  f1-score   support\n",
            "\n",
            "    airplane       0.89      0.80      0.84      1000\n",
            "  automobile       0.94      0.90      0.92      1000\n",
            "        bird       0.77      0.70      0.73      1000\n",
            "         cat       0.67      0.65      0.66      1000\n",
            "        deer       0.73      0.87      0.79      1000\n",
            "         dog       0.74      0.71      0.73      1000\n",
            "        frog       0.81      0.91      0.85      1000\n",
            "       horse       0.89      0.85      0.87      1000\n",
            "        ship       0.90      0.91      0.91      1000\n",
            "       truck       0.88      0.90      0.89      1000\n",
            "\n",
            "    accuracy                           0.82     10000\n",
            "   macro avg       0.82      0.82      0.82     10000\n",
            "weighted avg       0.82      0.82      0.82     10000\n",
            "\n"
          ],
          "name": "stdout"
        }
      ]
    },
    {
      "cell_type": "code",
      "metadata": {
        "id": "N4tYIC7jyaPB",
        "colab_type": "code",
        "colab": {
          "base_uri": "https://localhost:8080/",
          "height": 34
        },
        "outputId": "bdaa5c55-1623-4428-a9af-3e1327657aa5"
      },
      "source": [
        "H.history.keys()"
      ],
      "execution_count": 14,
      "outputs": [
        {
          "output_type": "execute_result",
          "data": {
            "text/plain": [
              "dict_keys(['val_loss', 'val_accuracy', 'loss', 'accuracy'])"
            ]
          },
          "metadata": {
            "tags": []
          },
          "execution_count": 14
        }
      ]
    },
    {
      "cell_type": "code",
      "metadata": {
        "id": "KL2iWDAZqtvM",
        "colab_type": "code",
        "colab": {
          "base_uri": "https://localhost:8080/",
          "height": 316
        },
        "outputId": "747bc308-d924-48d4-d935-a2658e8c1597"
      },
      "source": [
        "# plot the training loss and accuracy\n",
        "plt.style.use(\"ggplot\")\n",
        "plt.figure()\n",
        "plt.plot(np.arange(0, 40), H.history[\"loss\"], label=\"train_loss\")\n",
        "plt.plot(np.arange(0, 40), H.history[\"val_loss\"], label=\"val_loss\")\n",
        "plt.plot(np.arange(0, 40), H.history[\"accuracy\"], label=\"train_acc\")\n",
        "plt.plot(np.arange(0, 40), H.history[\"val_accuracy\"], label=\"val_acc\")\n",
        "plt.title(\"Training Loss and Accuracy on CIFAR-10\")\n",
        "plt.xlabel(\"Epoch #\")\n",
        "plt.ylabel(\"Loss/Accuracy\")\n",
        "plt.legend()\n",
        "#plt.savefig(args[\"output\"])"
      ],
      "execution_count": 15,
      "outputs": [
        {
          "output_type": "execute_result",
          "data": {
            "text/plain": [
              "<matplotlib.legend.Legend at 0x7f078b93e4e0>"
            ]
          },
          "metadata": {
            "tags": []
          },
          "execution_count": 15
        },
        {
          "output_type": "display_data",
          "data": {
            "image/png": "[encoded data removed]",
            "text/plain": [
              "<Figure size 432x288 with 1 Axes>"
            ]
          },
          "metadata": {
            "tags": []
          }
        }
      ]
    },
    {
      "cell_type": "code",
      "metadata": {
        "id": "w5kTs0_zyOzA",
        "colab_type": "code",
        "colab": {}
      },
      "source": [
        ""
      ],
      "execution_count": 0,
      "outputs": []
    }
  ]
}