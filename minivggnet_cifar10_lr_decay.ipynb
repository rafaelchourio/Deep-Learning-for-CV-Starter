{
  "nbformat": 4,
  "nbformat_minor": 0,
  "metadata": {
    "colab": {
      "name": "minivggnet_cifar10.ipynb",
      "provenance": [],
      "include_colab_link": true
    },
    "kernelspec": {
      "name": "python3",
      "display_name": "Python 3"
    },
    "accelerator": "GPU"
  },
  "cells": [
    {
      "cell_type": "markdown",
      "metadata": {
        "id": "view-in-github",
        "colab_type": "text"
      },
      "source": [
        "<a href=\"https://colab.research.google.com/github/rafaelchourio/Deep-Learning-for-CV-Starter/blob/master/minivggnet_cifar10_lr_decay.ipynb\" target=\"_parent\"><img src=\"https://colab.research.google.com/assets/colab-badge.svg\" alt=\"Open In Colab\"/></a>"
      ]
    },
    {
      "cell_type": "code",
      "metadata": {
        "id": "y_kCTAnLraIz",
        "colab_type": "code",
        "colab": {}
      },
      "source": [
        "# import the necessary packages\n",
        "from sklearn.preprocessing import LabelBinarizer\n",
        "from sklearn.metrics import classification_report\n",
        "from keras.optimizers import SGD\n",
        "from keras.datasets import cifar10\n",
        "from keras.callbacks import LearningRateScheduler\n",
        "import matplotlib.pyplot as plt\n",
        "import numpy as np\n",
        "from importlib.machinery import SourceFileLoader\n",
        "somemodule=SourceFileLoader(\"minivggnet\",\"/content/drive/My Drive/Colab Notebooks/Workspace/nn/convolutionals/minivggnet.py\").load_module()\n",
        "from minivggnet import MiniVGGNet"
      ],
      "execution_count": 0,
      "outputs": []
    },
    {
      "cell_type": "code",
      "metadata": {
        "id": "ucGGtDYwkorZ",
        "colab_type": "code",
        "colab": {}
      },
      "source": [
        "def step_decay(epoch):\n",
        "  # initialize the base initial learning rate, drop factor, and\n",
        "  # epochs to drop every\n",
        "  initAlpha = 0.01\n",
        "  factor = 0.5\n",
        "  dropEvery = 5\n",
        "\n",
        "  # compute learning rate for the current epoch\n",
        "  alpha = initAlpha * (factor ** np.floor((1 + epoch) / dropEvery))\n",
        "\n",
        "  # return the learning rate\n",
        "  return float(alpha)"
      ],
      "execution_count": 0,
      "outputs": []
    },
    {
      "cell_type": "code",
      "metadata": {
        "id": "TZiACrkIq0It",
        "colab_type": "code",
        "outputId": "38a1ea07-d781-4d48-e6ef-be9910c0eea2",
        "colab": {
          "base_uri": "https://localhost:8080/",
          "height": 34
        }
      },
      "source": [
        "# load the training and testing data, then scale it into the range [0, 1]\n",
        "print(\"[INFO] loading CIFAR-10 data...\")\n",
        "((trainX, trainY), (testX, testY)) = cifar10.load_data()\n",
        "\n",
        "trainX = trainX.astype(\"float\") / 255.0\n",
        "testX = testX.astype(\"float\") / 255.0"
      ],
      "execution_count": 3,
      "outputs": [
        {
          "output_type": "stream",
          "text": [
            "[INFO] loading CIFAR-10 data...\n"
          ],
          "name": "stdout"
        }
      ]
    },
    {
      "cell_type": "code",
      "metadata": {
        "id": "QackKB_Lq0Rk",
        "colab_type": "code",
        "colab": {}
      },
      "source": [
        "# convert the labels from integers to vectors\n",
        "lb = LabelBinarizer()\n",
        "trainY = lb.fit_transform(trainY)\n",
        "testY = lb.transform(testY)"
      ],
      "execution_count": 0,
      "outputs": []
    },
    {
      "cell_type": "code",
      "metadata": {
        "id": "fa__0aOZq0Vs",
        "colab_type": "code",
        "colab": {}
      },
      "source": [
        "# initialize the label names for the CIFAR-10 dataset\n",
        "labelNames = [\"airplane\", \"automobile\", \"bird\", \"cat\", \"deer\",\n",
        "\"dog\", \"frog\", \"horse\", \"ship\", \"truck\"]"
      ],
      "execution_count": 0,
      "outputs": []
    },
    {
      "cell_type": "code",
      "metadata": {
        "id": "nDFRhteOk5zn",
        "colab_type": "code",
        "colab": {}
      },
      "source": [
        "# define the set of callbacks to be passed to the model during\n",
        "# training\n",
        "callbacks = [LearningRateScheduler(step_decay)]"
      ],
      "execution_count": 0,
      "outputs": []
    },
    {
      "cell_type": "code",
      "metadata": {
        "id": "o_uuSQK-q7aN",
        "colab_type": "code",
        "outputId": "e60f6192-475c-4edd-9306-07192439035f",
        "colab": {
          "base_uri": "https://localhost:8080/",
          "height": 34
        }
      },
      "source": [
        "# initialize the optimizer and model\n",
        "print(\"[INFO] compiling model...\")\n",
        "opt = SGD(lr=0.01, momentum=0.9, nesterov=True)\n",
        "model = MiniVGGNet.build(width=32, height=32, depth=3, classes=10)\n",
        "model.compile(loss=\"categorical_crossentropy\", optimizer=opt,\n",
        "metrics=[\"accuracy\"])"
      ],
      "execution_count": 9,
      "outputs": [
        {
          "output_type": "stream",
          "text": [
            "[INFO] compiling model...\n"
          ],
          "name": "stdout"
        }
      ]
    },
    {
      "cell_type": "code",
      "metadata": {
        "id": "OzTGxI8Fq7d7",
        "colab_type": "code",
        "outputId": "ec659922-e3b3-4c20-dfa4-dc1a42d6a3bc",
        "colab": {
          "base_uri": "https://localhost:8080/",
          "height": 1000
        }
      },
      "source": [
        "# train the network\n",
        "print(\"[INFO] training network...\")\n",
        "H = model.fit(trainX, trainY, validation_data=(testX, testY),\n",
        "batch_size=64, epochs=40, callbacks=callbacks, verbose=1)"
      ],
      "execution_count": 10,
      "outputs": [
        {
          "output_type": "stream",
          "text": [
            "[INFO] training network...\n",
            "Train on 50000 samples, validate on 10000 samples\n",
            "Epoch 1/40\n",
            "50000/50000 [==============================] - 22s 439us/step - loss: 1.6589 - accuracy: 0.4502 - val_loss: 1.4248 - val_accuracy: 0.5215\n",
            "Epoch 2/40\n",
            "50000/50000 [==============================] - 20s 395us/step - loss: 1.1684 - accuracy: 0.5989 - val_loss: 0.9353 - val_accuracy: 0.6785\n",
            "Epoch 3/40\n",
            "50000/50000 [==============================] - 20s 398us/step - loss: 0.9859 - accuracy: 0.6586 - val_loss: 0.8645 - val_accuracy: 0.7023\n",
            "Epoch 4/40\n",
            "50000/50000 [==============================] - 20s 396us/step - loss: 0.8702 - accuracy: 0.6982 - val_loss: 0.8347 - val_accuracy: 0.7042\n",
            "Epoch 5/40\n",
            "50000/50000 [==============================] - 20s 397us/step - loss: 0.7321 - accuracy: 0.7425 - val_loss: 0.6832 - val_accuracy: 0.7607\n",
            "Epoch 6/40\n",
            "50000/50000 [==============================] - 20s 397us/step - loss: 0.6813 - accuracy: 0.7618 - val_loss: 0.6400 - val_accuracy: 0.7751\n",
            "Epoch 7/40\n",
            "50000/50000 [==============================] - 20s 396us/step - loss: 0.6515 - accuracy: 0.7706 - val_loss: 0.6551 - val_accuracy: 0.7685\n",
            "Epoch 8/40\n",
            "50000/50000 [==============================] - 20s 397us/step - loss: 0.6294 - accuracy: 0.7768 - val_loss: 0.6487 - val_accuracy: 0.7727\n",
            "Epoch 9/40\n",
            "50000/50000 [==============================] - 20s 397us/step - loss: 0.6155 - accuracy: 0.7829 - val_loss: 0.6213 - val_accuracy: 0.7863\n",
            "Epoch 10/40\n",
            "50000/50000 [==============================] - 20s 399us/step - loss: 0.5826 - accuracy: 0.7930 - val_loss: 0.5987 - val_accuracy: 0.7933\n",
            "Epoch 11/40\n",
            "50000/50000 [==============================] - 20s 396us/step - loss: 0.5727 - accuracy: 0.7989 - val_loss: 0.5970 - val_accuracy: 0.7948\n",
            "Epoch 12/40\n",
            "50000/50000 [==============================] - 20s 393us/step - loss: 0.5599 - accuracy: 0.8030 - val_loss: 0.5941 - val_accuracy: 0.7930\n",
            "Epoch 13/40\n",
            "50000/50000 [==============================] - 20s 394us/step - loss: 0.5591 - accuracy: 0.8038 - val_loss: 0.5894 - val_accuracy: 0.7954\n",
            "Epoch 14/40\n",
            "50000/50000 [==============================] - 20s 397us/step - loss: 0.5561 - accuracy: 0.8033 - val_loss: 0.5925 - val_accuracy: 0.7955\n",
            "Epoch 15/40\n",
            "50000/50000 [==============================] - 20s 400us/step - loss: 0.5399 - accuracy: 0.8096 - val_loss: 0.5874 - val_accuracy: 0.7962\n",
            "Epoch 16/40\n",
            "50000/50000 [==============================] - 20s 398us/step - loss: 0.5452 - accuracy: 0.8073 - val_loss: 0.5842 - val_accuracy: 0.7977\n",
            "Epoch 17/40\n",
            "50000/50000 [==============================] - 20s 396us/step - loss: 0.5366 - accuracy: 0.8086 - val_loss: 0.5842 - val_accuracy: 0.7983\n",
            "Epoch 18/40\n",
            "50000/50000 [==============================] - 20s 399us/step - loss: 0.5366 - accuracy: 0.8099 - val_loss: 0.5828 - val_accuracy: 0.7967\n",
            "Epoch 19/40\n",
            "50000/50000 [==============================] - 20s 397us/step - loss: 0.5360 - accuracy: 0.8109 - val_loss: 0.5822 - val_accuracy: 0.7990\n",
            "Epoch 20/40\n",
            "50000/50000 [==============================] - 20s 399us/step - loss: 0.5340 - accuracy: 0.8089 - val_loss: 0.5822 - val_accuracy: 0.7980\n",
            "Epoch 21/40\n",
            "50000/50000 [==============================] - 20s 400us/step - loss: 0.5346 - accuracy: 0.8136 - val_loss: 0.5824 - val_accuracy: 0.7976\n",
            "Epoch 22/40\n",
            "50000/50000 [==============================] - 20s 398us/step - loss: 0.5344 - accuracy: 0.8115 - val_loss: 0.5822 - val_accuracy: 0.7978\n",
            "Epoch 23/40\n",
            "50000/50000 [==============================] - 20s 396us/step - loss: 0.5337 - accuracy: 0.8116 - val_loss: 0.5824 - val_accuracy: 0.7975\n",
            "Epoch 24/40\n",
            "50000/50000 [==============================] - 20s 399us/step - loss: 0.5339 - accuracy: 0.8115 - val_loss: 0.5819 - val_accuracy: 0.7983\n",
            "Epoch 25/40\n",
            "50000/50000 [==============================] - 20s 397us/step - loss: 0.5304 - accuracy: 0.8125 - val_loss: 0.5816 - val_accuracy: 0.7979\n",
            "Epoch 26/40\n",
            "50000/50000 [==============================] - 20s 399us/step - loss: 0.5356 - accuracy: 0.8107 - val_loss: 0.5815 - val_accuracy: 0.7986\n",
            "Epoch 27/40\n",
            "50000/50000 [==============================] - 20s 399us/step - loss: 0.5333 - accuracy: 0.8118 - val_loss: 0.5811 - val_accuracy: 0.7989\n",
            "Epoch 28/40\n",
            "50000/50000 [==============================] - 20s 396us/step - loss: 0.5344 - accuracy: 0.8122 - val_loss: 0.5822 - val_accuracy: 0.7973\n",
            "Epoch 29/40\n",
            "50000/50000 [==============================] - 20s 398us/step - loss: 0.5338 - accuracy: 0.8123 - val_loss: 0.5811 - val_accuracy: 0.7983\n",
            "Epoch 30/40\n",
            "50000/50000 [==============================] - 20s 399us/step - loss: 0.5335 - accuracy: 0.8122 - val_loss: 0.5809 - val_accuracy: 0.7985\n",
            "Epoch 31/40\n",
            "50000/50000 [==============================] - 20s 398us/step - loss: 0.5339 - accuracy: 0.8117 - val_loss: 0.5808 - val_accuracy: 0.7976\n",
            "Epoch 32/40\n",
            "50000/50000 [==============================] - 20s 396us/step - loss: 0.5333 - accuracy: 0.8129 - val_loss: 0.5808 - val_accuracy: 0.7979\n",
            "Epoch 33/40\n",
            "50000/50000 [==============================] - 20s 396us/step - loss: 0.5299 - accuracy: 0.8126 - val_loss: 0.5808 - val_accuracy: 0.7991\n",
            "Epoch 34/40\n",
            "50000/50000 [==============================] - 20s 399us/step - loss: 0.5305 - accuracy: 0.8122 - val_loss: 0.5815 - val_accuracy: 0.7976\n",
            "Epoch 35/40\n",
            "50000/50000 [==============================] - 20s 406us/step - loss: 0.5326 - accuracy: 0.8133 - val_loss: 0.5810 - val_accuracy: 0.7976\n",
            "Epoch 36/40\n",
            "50000/50000 [==============================] - 21s 411us/step - loss: 0.5288 - accuracy: 0.8130 - val_loss: 0.5811 - val_accuracy: 0.7983\n",
            "Epoch 37/40\n",
            "50000/50000 [==============================] - 20s 408us/step - loss: 0.5305 - accuracy: 0.8127 - val_loss: 0.5816 - val_accuracy: 0.7985\n",
            "Epoch 38/40\n",
            "50000/50000 [==============================] - 20s 407us/step - loss: 0.5338 - accuracy: 0.8101 - val_loss: 0.5819 - val_accuracy: 0.7984\n",
            "Epoch 39/40\n",
            "50000/50000 [==============================] - 20s 408us/step - loss: 0.5347 - accuracy: 0.8117 - val_loss: 0.5813 - val_accuracy: 0.7979\n",
            "Epoch 40/40\n",
            "50000/50000 [==============================] - 20s 404us/step - loss: 0.5314 - accuracy: 0.8128 - val_loss: 0.5809 - val_accuracy: 0.7981\n"
          ],
          "name": "stdout"
        }
      ]
    },
    {
      "cell_type": "code",
      "metadata": {
        "id": "vH_ouTwQq7g0",
        "colab_type": "code",
        "outputId": "c9763496-a3d3-4a0b-a646-4da28b2b5f98",
        "colab": {
          "base_uri": "https://localhost:8080/",
          "height": 323
        }
      },
      "source": [
        "# evaluate the network\n",
        "print(\"[INFO] evaluating network...\")\n",
        "predictions = model.predict(testX, batch_size=64)\n",
        "print(classification_report(testY.argmax(axis=1),\n",
        "predictions.argmax(axis=1), target_names=labelNames))"
      ],
      "execution_count": 11,
      "outputs": [
        {
          "output_type": "stream",
          "text": [
            "[INFO] evaluating network...\n",
            "              precision    recall  f1-score   support\n",
            "\n",
            "    airplane       0.83      0.81      0.82      1000\n",
            "  automobile       0.91      0.89      0.90      1000\n",
            "        bird       0.74      0.65      0.69      1000\n",
            "         cat       0.65      0.62      0.63      1000\n",
            "        deer       0.74      0.80      0.77      1000\n",
            "         dog       0.70      0.71      0.70      1000\n",
            "        frog       0.81      0.89      0.85      1000\n",
            "       horse       0.86      0.84      0.85      1000\n",
            "        ship       0.87      0.91      0.89      1000\n",
            "       truck       0.86      0.88      0.87      1000\n",
            "\n",
            "    accuracy                           0.80     10000\n",
            "   macro avg       0.80      0.80      0.80     10000\n",
            "weighted avg       0.80      0.80      0.80     10000\n",
            "\n"
          ],
          "name": "stdout"
        }
      ]
    },
    {
      "cell_type": "code",
      "metadata": {
        "id": "KL2iWDAZqtvM",
        "colab_type": "code",
        "outputId": "1758f500-0ab6-4669-f3ae-6c7e7a9dda86",
        "colab": {
          "base_uri": "https://localhost:8080/",
          "height": 534
        }
      },
      "source": [
        "# plot the training loss and accuracy\n",
        "plt.style.use(\"ggplot\")\n",
        "plt.figure(figsize=(16,8))\n",
        "plt.plot(np.arange(0, 40), H.history[\"loss\"], label=\"train_loss\")\n",
        "plt.plot(np.arange(0, 40), H.history[\"val_loss\"], label=\"val_loss\")\n",
        "plt.plot(np.arange(0, 40), H.history[\"accuracy\"], label=\"train_acc\")\n",
        "plt.plot(np.arange(0, 40), H.history[\"val_accuracy\"], label=\"val_acc\")\n",
        "plt.title(\"Training Loss and Accuracy on CIFAR-10\")\n",
        "plt.xlabel(\"Epoch #\")\n",
        "plt.ylabel(\"Loss/Accuracy\")\n",
        "plt.legend()\n",
        "#plt.savefig(args[\"output\"])"
      ],
      "execution_count": 13,
      "outputs": [
        {
          "output_type": "execute_result",
          "data": {
            "text/plain": [
              "<matplotlib.legend.Legend at 0x7f2d4517af60>"
            ]
          },
          "metadata": {
            "tags": []
          },
          "execution_count": 13
        },
        {
          "output_type": "display_data",
          "data": {
            "image/png": "[encoded data removed]",
            "text/plain": [
              "<Figure size 1152x576 with 1 Axes>"
            ]
          },
          "metadata": {
            "tags": []
          }
        }
      ]
    },
    {
      "cell_type": "code",
      "metadata": {
        "id": "w5kTs0_zyOzA",
        "colab_type": "code",
        "colab": {}
      },
      "source": [
        ""
      ],
      "execution_count": 0,
      "outputs": []
    }
  ]
}